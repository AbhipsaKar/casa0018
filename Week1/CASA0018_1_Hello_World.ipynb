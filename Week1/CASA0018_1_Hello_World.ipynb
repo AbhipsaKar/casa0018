{
  "nbformat": 4,
  "nbformat_minor": 0,
  "metadata": {
    "colab": {
      "name": "CASA0018_1_Hello World",
      "provenance": [],
      "collapsed_sections": [],
      "toc_visible": true,
      "include_colab_link": true
    },
    "kernelspec": {
      "name": "python3",
      "display_name": "Python 3"
    }
  },
  "cells": [
    {
      "cell_type": "markdown",
      "metadata": {
        "id": "view-in-github",
        "colab_type": "text"
      },
      "source": [
        "<a href=\"https://colab.research.google.com/github/AbhipsaKar/casa0018/blob/main/Week1/CASA0018_1_Hello_World.ipynb\" target=\"_parent\"><img src=\"https://colab.research.google.com/assets/colab-badge.svg\" alt=\"Open In Colab\"/></a>"
      ]
    },
    {
      "cell_type": "markdown",
      "metadata": {
        "id": "ZIAkIlfmCe1B"
      },
      "source": [
        "# The Hello World of Deep Learning with Neural Networks"
      ]
    },
    {
      "cell_type": "markdown",
      "source": [
        "Document and add comments as you go.\n",
        "Testing colabs and Python Deep learning workshop."
      ],
      "metadata": {
        "id": "5Hh8Av1yFPX6"
      }
    },
    {
      "cell_type": "markdown",
      "metadata": {
        "id": "DzbtdRcZDO9B"
      },
      "source": [
        "## Imports\n",
        "\n",
        "Import **TensorFlow** and **numpy** (the latter helps us to represent our data as lists easily and quickly). The framework for defining a neural network as a set of sequential layers is called **keras**. Keras is a **deep learning** API written in Python, running on top of the **machine learning** platform TensorFlow."
      ]
    },
    {
      "cell_type": "code",
      "metadata": {
        "id": "X9uIpOS2zx7k"
      },
      "source": [
        "import tensorflow as tf\n",
        "import numpy as np\n",
        "from tensorflow import keras"
      ],
      "execution_count": 3,
      "outputs": []
    },
    {
      "cell_type": "markdown",
      "metadata": {
        "id": "5QyOUhFw1OUX"
      },
      "source": [
        "## Providing the Data\n",
        "\n",
        "Next up we'll feed in some data. Can you guess what the relationshop is between this data? (If you are not familiar with 'Numpy' it is worth taking a look at the pre-course Python training)."
      ]
    },
    {
      "cell_type": "code",
      "metadata": {
        "id": "4Dxk4q-jzEy4"
      },
      "source": [
        "xs = np.array([-1.0, 0.0, 1.0, 2.0, 3.0, 4.0], dtype=float)\n",
        "ys = np.array([-2.0, 1.0, 4.0, 7.0, 10.0, 13.0], dtype=float)"
      ],
      "execution_count": 4,
      "outputs": []
    },
    {
      "cell_type": "markdown",
      "metadata": {
        "id": "wwJGmDrQ0EoB"
      },
      "source": [
        "## Define and Compile the Neural Network\n",
        "\n",
        "Next we will create the simplest possible neural network using the keras **Sequential** function. This allows us to add layers sequentially to the model that describe the inputs, outputs and hidden layers of the neural network. We define the **input shape** to have a value of 1 (ie x)[only 1 layer]. We then add one Dense **layer** with a size of 1  neuron[1 hidden layer]. The **Dense** function describes a network layer where all neurons are connected to all other neurons. However, in the example below we have the simpest model possible which is just one neuron that receives one input and generates a single output."
      ]
    },
    {
      "cell_type": "code",
      "metadata": {
        "id": "kQFAr_xo0M4T",
        "colab": {
          "base_uri": "https://localhost:8080/"
        },
        "outputId": "69112657-3fdc-425a-856a-c7801b7ad927"
      },
      "source": [
        "model = tf.keras.Sequential()\n",
        "model.add(tf.keras.Input(shape=(1,)))\n",
        "model.add(tf.keras.layers.Dense(1,))\n",
        "model.summary()"
      ],
      "execution_count": 7,
      "outputs": [
        {
          "output_type": "stream",
          "name": "stdout",
          "text": [
            "Model: \"sequential_1\"\n",
            "_________________________________________________________________\n",
            " Layer (type)                Output Shape              Param #   \n",
            "=================================================================\n",
            " dense_1 (Dense)             (None, 1)                 2         \n",
            "                                                                 \n",
            "=================================================================\n",
            "Total params: 2\n",
            "Trainable params: 2\n",
            "Non-trainable params: 0\n",
            "_________________________________________________________________\n"
          ]
        }
      ]
    },
    {
      "cell_type": "markdown",
      "metadata": {
        "id": "KhjZjZ-c0Ok9"
      },
      "source": [
        "Now we compile our Neural Network and we specify 2 functions, a loss and an optimizer. The LOSS function measures the guessed answer against the known correct answers. The OPTIMIZER function will try to minimize the loss. Here we use 'MEAN SQUARED ERROR' for the loss and 'STOCHASTIC GRADIENT DESCENT' for the optimizer."
      ]
    },
    {
      "cell_type": "code",
      "metadata": {
        "id": "m8YQN1H41L-Y"
      },
      "source": [
        "model.compile(optimizer='sgd', loss='mean_squared_error')"
      ],
      "execution_count": 9,
      "outputs": []
    },
    {
      "cell_type": "markdown",
      "metadata": {
        "id": "n_YcWRElnM_b"
      },
      "source": [
        "# Training the Neural Network"
      ]
    },
    {
      "cell_type": "markdown",
      "metadata": {
        "id": "c-Jk4dG91dvD"
      },
      "source": [
        "The process of training the neural network, where it 'learns' the relationship between the Xs and Ys is in the **model.fit**  call. It loops for a number of epochs, making a guess, measuring the loss(difference between model answer and actual answer) and using the opimizer to make another guess. In the results you can see the loss on the right hand side for each guess. Increasing the number of epochs could cause overfitting on the sample data. The relationship may be linear or non-linear. Try experimenting with different model parameters to get a better accuracy."
      ]
    },
    {
      "cell_type": "code",
      "metadata": {
        "id": "lpRrl7WK10Pq",
        "outputId": "b76aa649-1eb8-43c3-d38e-bf51b4b9fb6b",
        "colab": {
          "base_uri": "https://localhost:8080/"
        }
      },
      "source": [
        "model.fit(xs, ys, epochs=200)"
      ],
      "execution_count": 10,
      "outputs": [
        {
          "output_type": "stream",
          "name": "stdout",
          "text": [
            "Epoch 1/200\n",
            "1/1 [==============================] - 1s 562ms/step - loss: 80.8226\n",
            "Epoch 2/200\n",
            "1/1 [==============================] - 0s 5ms/step - loss: 63.5902\n",
            "Epoch 3/200\n",
            "1/1 [==============================] - 0s 6ms/step - loss: 50.0325\n",
            "Epoch 4/200\n",
            "1/1 [==============================] - 0s 4ms/step - loss: 39.3659\n",
            "Epoch 5/200\n",
            "1/1 [==============================] - 0s 5ms/step - loss: 30.9738\n",
            "Epoch 6/200\n",
            "1/1 [==============================] - 0s 7ms/step - loss: 24.3713\n",
            "Epoch 7/200\n",
            "1/1 [==============================] - 0s 6ms/step - loss: 19.1767\n",
            "Epoch 8/200\n",
            "1/1 [==============================] - 0s 17ms/step - loss: 15.0898\n",
            "Epoch 9/200\n",
            "1/1 [==============================] - 0s 7ms/step - loss: 11.8744\n",
            "Epoch 10/200\n",
            "1/1 [==============================] - 0s 5ms/step - loss: 9.3446\n",
            "Epoch 11/200\n",
            "1/1 [==============================] - 0s 4ms/step - loss: 7.3543\n",
            "Epoch 12/200\n",
            "1/1 [==============================] - 0s 4ms/step - loss: 5.7883\n",
            "Epoch 13/200\n",
            "1/1 [==============================] - 0s 4ms/step - loss: 4.5562\n",
            "Epoch 14/200\n",
            "1/1 [==============================] - 0s 4ms/step - loss: 3.5868\n",
            "Epoch 15/200\n",
            "1/1 [==============================] - 0s 5ms/step - loss: 2.8241\n",
            "Epoch 16/200\n",
            "1/1 [==============================] - 0s 4ms/step - loss: 2.2240\n",
            "Epoch 17/200\n",
            "1/1 [==============================] - 0s 4ms/step - loss: 1.7518\n",
            "Epoch 18/200\n",
            "1/1 [==============================] - 0s 4ms/step - loss: 1.3803\n",
            "Epoch 19/200\n",
            "1/1 [==============================] - 0s 4ms/step - loss: 1.0879\n",
            "Epoch 20/200\n",
            "1/1 [==============================] - 0s 4ms/step - loss: 0.8579\n",
            "Epoch 21/200\n",
            "1/1 [==============================] - 0s 4ms/step - loss: 0.6769\n",
            "Epoch 22/200\n",
            "1/1 [==============================] - 0s 9ms/step - loss: 0.5344\n",
            "Epoch 23/200\n",
            "1/1 [==============================] - 0s 4ms/step - loss: 0.4223\n",
            "Epoch 24/200\n",
            "1/1 [==============================] - 0s 4ms/step - loss: 0.3340\n",
            "Epoch 25/200\n",
            "1/1 [==============================] - 0s 4ms/step - loss: 0.2646\n",
            "Epoch 26/200\n",
            "1/1 [==============================] - 0s 4ms/step - loss: 0.2099\n",
            "Epoch 27/200\n",
            "1/1 [==============================] - 0s 4ms/step - loss: 0.1668\n",
            "Epoch 28/200\n",
            "1/1 [==============================] - 0s 4ms/step - loss: 0.1329\n",
            "Epoch 29/200\n",
            "1/1 [==============================] - 0s 3ms/step - loss: 0.1062\n",
            "Epoch 30/200\n",
            "1/1 [==============================] - 0s 8ms/step - loss: 0.0851\n",
            "Epoch 31/200\n",
            "1/1 [==============================] - 0s 4ms/step - loss: 0.0685\n",
            "Epoch 32/200\n",
            "1/1 [==============================] - 0s 4ms/step - loss: 0.0554\n",
            "Epoch 33/200\n",
            "1/1 [==============================] - 0s 3ms/step - loss: 0.0451\n",
            "Epoch 34/200\n",
            "1/1 [==============================] - 0s 4ms/step - loss: 0.0370\n",
            "Epoch 35/200\n",
            "1/1 [==============================] - 0s 8ms/step - loss: 0.0305\n",
            "Epoch 36/200\n",
            "1/1 [==============================] - 0s 4ms/step - loss: 0.0254\n",
            "Epoch 37/200\n",
            "1/1 [==============================] - 0s 4ms/step - loss: 0.0214\n",
            "Epoch 38/200\n",
            "1/1 [==============================] - 0s 7ms/step - loss: 0.0182\n",
            "Epoch 39/200\n",
            "1/1 [==============================] - 0s 4ms/step - loss: 0.0156\n",
            "Epoch 40/200\n",
            "1/1 [==============================] - 0s 4ms/step - loss: 0.0136\n",
            "Epoch 41/200\n",
            "1/1 [==============================] - 0s 7ms/step - loss: 0.0119\n",
            "Epoch 42/200\n",
            "1/1 [==============================] - 0s 4ms/step - loss: 0.0106\n",
            "Epoch 43/200\n",
            "1/1 [==============================] - 0s 4ms/step - loss: 0.0096\n",
            "Epoch 44/200\n",
            "1/1 [==============================] - 0s 8ms/step - loss: 0.0087\n",
            "Epoch 45/200\n",
            "1/1 [==============================] - 0s 3ms/step - loss: 0.0080\n",
            "Epoch 46/200\n",
            "1/1 [==============================] - 0s 4ms/step - loss: 0.0075\n",
            "Epoch 47/200\n",
            "1/1 [==============================] - 0s 3ms/step - loss: 0.0070\n",
            "Epoch 48/200\n",
            "1/1 [==============================] - 0s 7ms/step - loss: 0.0066\n",
            "Epoch 49/200\n",
            "1/1 [==============================] - 0s 4ms/step - loss: 0.0063\n",
            "Epoch 50/200\n",
            "1/1 [==============================] - 0s 4ms/step - loss: 0.0060\n",
            "Epoch 51/200\n",
            "1/1 [==============================] - 0s 7ms/step - loss: 0.0057\n",
            "Epoch 52/200\n",
            "1/1 [==============================] - 0s 4ms/step - loss: 0.0055\n",
            "Epoch 53/200\n",
            "1/1 [==============================] - 0s 4ms/step - loss: 0.0053\n",
            "Epoch 54/200\n",
            "1/1 [==============================] - 0s 7ms/step - loss: 0.0052\n",
            "Epoch 55/200\n",
            "1/1 [==============================] - 0s 3ms/step - loss: 0.0050\n",
            "Epoch 56/200\n",
            "1/1 [==============================] - 0s 3ms/step - loss: 0.0049\n",
            "Epoch 57/200\n",
            "1/1 [==============================] - 0s 7ms/step - loss: 0.0047\n",
            "Epoch 58/200\n",
            "1/1 [==============================] - 0s 6ms/step - loss: 0.0046\n",
            "Epoch 59/200\n",
            "1/1 [==============================] - 0s 3ms/step - loss: 0.0045\n",
            "Epoch 60/200\n",
            "1/1 [==============================] - 0s 5ms/step - loss: 0.0044\n",
            "Epoch 61/200\n",
            "1/1 [==============================] - 0s 5ms/step - loss: 0.0043\n",
            "Epoch 62/200\n",
            "1/1 [==============================] - 0s 5ms/step - loss: 0.0042\n",
            "Epoch 63/200\n",
            "1/1 [==============================] - 0s 4ms/step - loss: 0.0041\n",
            "Epoch 64/200\n",
            "1/1 [==============================] - 0s 5ms/step - loss: 0.0040\n",
            "Epoch 65/200\n",
            "1/1 [==============================] - 0s 5ms/step - loss: 0.0039\n",
            "Epoch 66/200\n",
            "1/1 [==============================] - 0s 14ms/step - loss: 0.0038\n",
            "Epoch 67/200\n",
            "1/1 [==============================] - 0s 5ms/step - loss: 0.0038\n",
            "Epoch 68/200\n",
            "1/1 [==============================] - 0s 5ms/step - loss: 0.0037\n",
            "Epoch 69/200\n",
            "1/1 [==============================] - 0s 5ms/step - loss: 0.0036\n",
            "Epoch 70/200\n",
            "1/1 [==============================] - 0s 6ms/step - loss: 0.0035\n",
            "Epoch 71/200\n",
            "1/1 [==============================] - 0s 7ms/step - loss: 0.0035\n",
            "Epoch 72/200\n",
            "1/1 [==============================] - 0s 4ms/step - loss: 0.0034\n",
            "Epoch 73/200\n",
            "1/1 [==============================] - 0s 4ms/step - loss: 0.0033\n",
            "Epoch 74/200\n",
            "1/1 [==============================] - 0s 6ms/step - loss: 0.0032\n",
            "Epoch 75/200\n",
            "1/1 [==============================] - 0s 4ms/step - loss: 0.0032\n",
            "Epoch 76/200\n",
            "1/1 [==============================] - 0s 5ms/step - loss: 0.0031\n",
            "Epoch 77/200\n",
            "1/1 [==============================] - 0s 6ms/step - loss: 0.0030\n",
            "Epoch 78/200\n",
            "1/1 [==============================] - 0s 4ms/step - loss: 0.0030\n",
            "Epoch 79/200\n",
            "1/1 [==============================] - 0s 13ms/step - loss: 0.0029\n",
            "Epoch 80/200\n",
            "1/1 [==============================] - 0s 4ms/step - loss: 0.0029\n",
            "Epoch 81/200\n",
            "1/1 [==============================] - 0s 3ms/step - loss: 0.0028\n",
            "Epoch 82/200\n",
            "1/1 [==============================] - 0s 5ms/step - loss: 0.0027\n",
            "Epoch 83/200\n",
            "1/1 [==============================] - 0s 7ms/step - loss: 0.0027\n",
            "Epoch 84/200\n",
            "1/1 [==============================] - 0s 4ms/step - loss: 0.0026\n",
            "Epoch 85/200\n",
            "1/1 [==============================] - 0s 4ms/step - loss: 0.0026\n",
            "Epoch 86/200\n",
            "1/1 [==============================] - 0s 6ms/step - loss: 0.0025\n",
            "Epoch 87/200\n",
            "1/1 [==============================] - 0s 4ms/step - loss: 0.0025\n",
            "Epoch 88/200\n",
            "1/1 [==============================] - 0s 4ms/step - loss: 0.0024\n",
            "Epoch 89/200\n",
            "1/1 [==============================] - 0s 6ms/step - loss: 0.0024\n",
            "Epoch 90/200\n",
            "1/1 [==============================] - 0s 7ms/step - loss: 0.0023\n",
            "Epoch 91/200\n",
            "1/1 [==============================] - 0s 9ms/step - loss: 0.0023\n",
            "Epoch 92/200\n",
            "1/1 [==============================] - 0s 8ms/step - loss: 0.0022\n",
            "Epoch 93/200\n",
            "1/1 [==============================] - 0s 12ms/step - loss: 0.0022\n",
            "Epoch 94/200\n",
            "1/1 [==============================] - 0s 10ms/step - loss: 0.0021\n",
            "Epoch 95/200\n",
            "1/1 [==============================] - 0s 7ms/step - loss: 0.0021\n",
            "Epoch 96/200\n",
            "1/1 [==============================] - 0s 5ms/step - loss: 0.0021\n",
            "Epoch 97/200\n",
            "1/1 [==============================] - 0s 8ms/step - loss: 0.0020\n",
            "Epoch 98/200\n",
            "1/1 [==============================] - 0s 5ms/step - loss: 0.0020\n",
            "Epoch 99/200\n",
            "1/1 [==============================] - 0s 7ms/step - loss: 0.0019\n",
            "Epoch 100/200\n",
            "1/1 [==============================] - 0s 5ms/step - loss: 0.0019\n",
            "Epoch 101/200\n",
            "1/1 [==============================] - 0s 8ms/step - loss: 0.0019\n",
            "Epoch 102/200\n",
            "1/1 [==============================] - 0s 7ms/step - loss: 0.0018\n",
            "Epoch 103/200\n",
            "1/1 [==============================] - 0s 9ms/step - loss: 0.0018\n",
            "Epoch 104/200\n",
            "1/1 [==============================] - 0s 4ms/step - loss: 0.0017\n",
            "Epoch 105/200\n",
            "1/1 [==============================] - 0s 10ms/step - loss: 0.0017\n",
            "Epoch 106/200\n",
            "1/1 [==============================] - 0s 8ms/step - loss: 0.0017\n",
            "Epoch 107/200\n",
            "1/1 [==============================] - 0s 10ms/step - loss: 0.0016\n",
            "Epoch 108/200\n",
            "1/1 [==============================] - 0s 10ms/step - loss: 0.0016\n",
            "Epoch 109/200\n",
            "1/1 [==============================] - 0s 6ms/step - loss: 0.0016\n",
            "Epoch 110/200\n",
            "1/1 [==============================] - 0s 8ms/step - loss: 0.0015\n",
            "Epoch 111/200\n",
            "1/1 [==============================] - 0s 5ms/step - loss: 0.0015\n",
            "Epoch 112/200\n",
            "1/1 [==============================] - 0s 7ms/step - loss: 0.0015\n",
            "Epoch 113/200\n",
            "1/1 [==============================] - 0s 5ms/step - loss: 0.0014\n",
            "Epoch 114/200\n",
            "1/1 [==============================] - 0s 7ms/step - loss: 0.0014\n",
            "Epoch 115/200\n",
            "1/1 [==============================] - 0s 8ms/step - loss: 0.0014\n",
            "Epoch 116/200\n",
            "1/1 [==============================] - 0s 8ms/step - loss: 0.0014\n",
            "Epoch 117/200\n",
            "1/1 [==============================] - 0s 7ms/step - loss: 0.0013\n",
            "Epoch 118/200\n",
            "1/1 [==============================] - 0s 10ms/step - loss: 0.0013\n",
            "Epoch 119/200\n",
            "1/1 [==============================] - 0s 5ms/step - loss: 0.0013\n",
            "Epoch 120/200\n",
            "1/1 [==============================] - 0s 5ms/step - loss: 0.0012\n",
            "Epoch 121/200\n",
            "1/1 [==============================] - 0s 9ms/step - loss: 0.0012\n",
            "Epoch 122/200\n",
            "1/1 [==============================] - 0s 5ms/step - loss: 0.0012\n",
            "Epoch 123/200\n",
            "1/1 [==============================] - 0s 11ms/step - loss: 0.0012\n",
            "Epoch 124/200\n",
            "1/1 [==============================] - 0s 7ms/step - loss: 0.0011\n",
            "Epoch 125/200\n",
            "1/1 [==============================] - 0s 7ms/step - loss: 0.0011\n",
            "Epoch 126/200\n",
            "1/1 [==============================] - 0s 6ms/step - loss: 0.0011\n",
            "Epoch 127/200\n",
            "1/1 [==============================] - 0s 6ms/step - loss: 0.0011\n",
            "Epoch 128/200\n",
            "1/1 [==============================] - 0s 4ms/step - loss: 0.0011\n",
            "Epoch 129/200\n",
            "1/1 [==============================] - 0s 5ms/step - loss: 0.0010\n",
            "Epoch 130/200\n",
            "1/1 [==============================] - 0s 6ms/step - loss: 0.0010\n",
            "Epoch 131/200\n",
            "1/1 [==============================] - 0s 5ms/step - loss: 9.9307e-04\n",
            "Epoch 132/200\n",
            "1/1 [==============================] - 0s 5ms/step - loss: 9.7267e-04\n",
            "Epoch 133/200\n",
            "1/1 [==============================] - 0s 7ms/step - loss: 9.5269e-04\n",
            "Epoch 134/200\n",
            "1/1 [==============================] - 0s 5ms/step - loss: 9.3312e-04\n",
            "Epoch 135/200\n",
            "1/1 [==============================] - 0s 4ms/step - loss: 9.1395e-04\n",
            "Epoch 136/200\n",
            "1/1 [==============================] - 0s 5ms/step - loss: 8.9517e-04\n",
            "Epoch 137/200\n",
            "1/1 [==============================] - 0s 12ms/step - loss: 8.7679e-04\n",
            "Epoch 138/200\n",
            "1/1 [==============================] - 0s 5ms/step - loss: 8.5878e-04\n",
            "Epoch 139/200\n",
            "1/1 [==============================] - 0s 6ms/step - loss: 8.4114e-04\n",
            "Epoch 140/200\n",
            "1/1 [==============================] - 0s 5ms/step - loss: 8.2386e-04\n",
            "Epoch 141/200\n",
            "1/1 [==============================] - 0s 4ms/step - loss: 8.0693e-04\n",
            "Epoch 142/200\n",
            "1/1 [==============================] - 0s 4ms/step - loss: 7.9036e-04\n",
            "Epoch 143/200\n",
            "1/1 [==============================] - 0s 4ms/step - loss: 7.7412e-04\n",
            "Epoch 144/200\n",
            "1/1 [==============================] - 0s 4ms/step - loss: 7.5822e-04\n",
            "Epoch 145/200\n",
            "1/1 [==============================] - 0s 8ms/step - loss: 7.4265e-04\n",
            "Epoch 146/200\n",
            "1/1 [==============================] - 0s 16ms/step - loss: 7.2739e-04\n",
            "Epoch 147/200\n",
            "1/1 [==============================] - 0s 8ms/step - loss: 7.1246e-04\n",
            "Epoch 148/200\n",
            "1/1 [==============================] - 0s 7ms/step - loss: 6.9782e-04\n",
            "Epoch 149/200\n",
            "1/1 [==============================] - 0s 8ms/step - loss: 6.8349e-04\n",
            "Epoch 150/200\n",
            "1/1 [==============================] - 0s 4ms/step - loss: 6.6945e-04\n",
            "Epoch 151/200\n",
            "1/1 [==============================] - 0s 4ms/step - loss: 6.5570e-04\n",
            "Epoch 152/200\n",
            "1/1 [==============================] - 0s 4ms/step - loss: 6.4222e-04\n",
            "Epoch 153/200\n",
            "1/1 [==============================] - 0s 5ms/step - loss: 6.2904e-04\n",
            "Epoch 154/200\n",
            "1/1 [==============================] - 0s 4ms/step - loss: 6.1611e-04\n",
            "Epoch 155/200\n",
            "1/1 [==============================] - 0s 4ms/step - loss: 6.0346e-04\n",
            "Epoch 156/200\n",
            "1/1 [==============================] - 0s 4ms/step - loss: 5.9106e-04\n",
            "Epoch 157/200\n",
            "1/1 [==============================] - 0s 5ms/step - loss: 5.7892e-04\n",
            "Epoch 158/200\n",
            "1/1 [==============================] - 0s 4ms/step - loss: 5.6703e-04\n",
            "Epoch 159/200\n",
            "1/1 [==============================] - 0s 4ms/step - loss: 5.5538e-04\n",
            "Epoch 160/200\n",
            "1/1 [==============================] - 0s 5ms/step - loss: 5.4397e-04\n",
            "Epoch 161/200\n",
            "1/1 [==============================] - 0s 6ms/step - loss: 5.3280e-04\n",
            "Epoch 162/200\n",
            "1/1 [==============================] - 0s 4ms/step - loss: 5.2186e-04\n",
            "Epoch 163/200\n",
            "1/1 [==============================] - 0s 4ms/step - loss: 5.1114e-04\n",
            "Epoch 164/200\n",
            "1/1 [==============================] - 0s 4ms/step - loss: 5.0064e-04\n",
            "Epoch 165/200\n",
            "1/1 [==============================] - 0s 5ms/step - loss: 4.9035e-04\n",
            "Epoch 166/200\n",
            "1/1 [==============================] - 0s 4ms/step - loss: 4.8028e-04\n",
            "Epoch 167/200\n",
            "1/1 [==============================] - 0s 8ms/step - loss: 4.7041e-04\n",
            "Epoch 168/200\n",
            "1/1 [==============================] - 0s 4ms/step - loss: 4.6075e-04\n",
            "Epoch 169/200\n",
            "1/1 [==============================] - 0s 3ms/step - loss: 4.5129e-04\n",
            "Epoch 170/200\n",
            "1/1 [==============================] - 0s 3ms/step - loss: 4.4202e-04\n",
            "Epoch 171/200\n",
            "1/1 [==============================] - 0s 5ms/step - loss: 4.3294e-04\n",
            "Epoch 172/200\n",
            "1/1 [==============================] - 0s 3ms/step - loss: 4.2405e-04\n",
            "Epoch 173/200\n",
            "1/1 [==============================] - 0s 4ms/step - loss: 4.1534e-04\n",
            "Epoch 174/200\n",
            "1/1 [==============================] - 0s 4ms/step - loss: 4.0681e-04\n",
            "Epoch 175/200\n",
            "1/1 [==============================] - 0s 20ms/step - loss: 3.9845e-04\n",
            "Epoch 176/200\n",
            "1/1 [==============================] - 0s 8ms/step - loss: 3.9027e-04\n",
            "Epoch 177/200\n",
            "1/1 [==============================] - 0s 12ms/step - loss: 3.8225e-04\n",
            "Epoch 178/200\n",
            "1/1 [==============================] - 0s 10ms/step - loss: 3.7440e-04\n",
            "Epoch 179/200\n",
            "1/1 [==============================] - 0s 8ms/step - loss: 3.6671e-04\n",
            "Epoch 180/200\n",
            "1/1 [==============================] - 0s 8ms/step - loss: 3.5918e-04\n",
            "Epoch 181/200\n",
            "1/1 [==============================] - 0s 7ms/step - loss: 3.5180e-04\n",
            "Epoch 182/200\n",
            "1/1 [==============================] - 0s 8ms/step - loss: 3.4457e-04\n",
            "Epoch 183/200\n",
            "1/1 [==============================] - 0s 5ms/step - loss: 3.3749e-04\n",
            "Epoch 184/200\n",
            "1/1 [==============================] - 0s 5ms/step - loss: 3.3056e-04\n",
            "Epoch 185/200\n",
            "1/1 [==============================] - 0s 5ms/step - loss: 3.2378e-04\n",
            "Epoch 186/200\n",
            "1/1 [==============================] - 0s 6ms/step - loss: 3.1712e-04\n",
            "Epoch 187/200\n",
            "1/1 [==============================] - 0s 4ms/step - loss: 3.1061e-04\n",
            "Epoch 188/200\n",
            "1/1 [==============================] - 0s 5ms/step - loss: 3.0423e-04\n",
            "Epoch 189/200\n",
            "1/1 [==============================] - 0s 4ms/step - loss: 2.9798e-04\n",
            "Epoch 190/200\n",
            "1/1 [==============================] - 0s 4ms/step - loss: 2.9186e-04\n",
            "Epoch 191/200\n",
            "1/1 [==============================] - 0s 4ms/step - loss: 2.8586e-04\n",
            "Epoch 192/200\n",
            "1/1 [==============================] - 0s 9ms/step - loss: 2.8000e-04\n",
            "Epoch 193/200\n",
            "1/1 [==============================] - 0s 4ms/step - loss: 2.7424e-04\n",
            "Epoch 194/200\n",
            "1/1 [==============================] - 0s 4ms/step - loss: 2.6861e-04\n",
            "Epoch 195/200\n",
            "1/1 [==============================] - 0s 4ms/step - loss: 2.6309e-04\n",
            "Epoch 196/200\n",
            "1/1 [==============================] - 0s 7ms/step - loss: 2.5769e-04\n",
            "Epoch 197/200\n",
            "1/1 [==============================] - 0s 4ms/step - loss: 2.5240e-04\n",
            "Epoch 198/200\n",
            "1/1 [==============================] - 0s 4ms/step - loss: 2.4721e-04\n",
            "Epoch 199/200\n",
            "1/1 [==============================] - 0s 8ms/step - loss: 2.4213e-04\n",
            "Epoch 200/200\n",
            "1/1 [==============================] - 0s 4ms/step - loss: 2.3716e-04\n"
          ]
        },
        {
          "output_type": "execute_result",
          "data": {
            "text/plain": [
              "<keras.callbacks.History at 0x7f3c51253450>"
            ]
          },
          "metadata": {},
          "execution_count": 10
        }
      ]
    },
    {
      "cell_type": "markdown",
      "metadata": {
        "id": "kaFIr71H2OZ-"
      },
      "source": [
        "Now we have a model you can use the **model.predict** method to have it figure out the Y for a previously unknown X. "
      ]
    },
    {
      "cell_type": "code",
      "metadata": {
        "id": "oxNzL4lS2Gui",
        "outputId": "d3c163b9-71f1-476b-c1a9-7e1fafec683b",
        "colab": {
          "base_uri": "https://localhost:8080/"
        }
      },
      "source": [
        "print(model.predict([10]))"
      ],
      "execution_count": 11,
      "outputs": [
        {
          "output_type": "stream",
          "name": "stdout",
          "text": [
            "[[30.955069]]\n"
          ]
        }
      ]
    }
  ]
}